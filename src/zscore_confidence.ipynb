{
 "cells": [
  {
   "cell_type": "code",
   "execution_count": 1,
   "id": "a8104681",
   "metadata": {},
   "outputs": [],
   "source": [
    "import pandas as pd\n",
    "import numpy as np\n",
    "from scipy import stats"
   ]
  },
  {
   "cell_type": "code",
   "execution_count": 7,
   "id": "e45af57a",
   "metadata": {},
   "outputs": [
    {
     "data": {
      "text/html": [
       "<div>\n",
       "<style scoped>\n",
       "    .dataframe tbody tr th:only-of-type {\n",
       "        vertical-align: middle;\n",
       "    }\n",
       "\n",
       "    .dataframe tbody tr th {\n",
       "        vertical-align: top;\n",
       "    }\n",
       "\n",
       "    .dataframe thead th {\n",
       "        text-align: right;\n",
       "    }\n",
       "</style>\n",
       "<table border=\"1\" class=\"dataframe\">\n",
       "  <thead>\n",
       "    <tr style=\"text-align: right;\">\n",
       "      <th></th>\n",
       "      <th>SBD</th>\n",
       "      <th>TOAN</th>\n",
       "    </tr>\n",
       "  </thead>\n",
       "  <tbody>\n",
       "    <tr>\n",
       "      <th>0</th>\n",
       "      <td>02083823</td>\n",
       "      <td>5.00</td>\n",
       "    </tr>\n",
       "    <tr>\n",
       "      <th>1</th>\n",
       "      <td>38012819</td>\n",
       "      <td>4.00</td>\n",
       "    </tr>\n",
       "    <tr>\n",
       "      <th>2</th>\n",
       "      <td>34006288</td>\n",
       "      <td>8.00</td>\n",
       "    </tr>\n",
       "    <tr>\n",
       "      <th>3</th>\n",
       "      <td>08000914</td>\n",
       "      <td>5.25</td>\n",
       "    </tr>\n",
       "    <tr>\n",
       "      <th>4</th>\n",
       "      <td>01015076</td>\n",
       "      <td>8.00</td>\n",
       "    </tr>\n",
       "  </tbody>\n",
       "</table>\n",
       "</div>"
      ],
      "text/plain": [
       "        SBD  TOAN\n",
       "0  02083823  5.00\n",
       "1  38012819  4.00\n",
       "2  34006288  8.00\n",
       "3  08000914  5.25\n",
       "4  01015076  8.00"
      ]
     },
     "execution_count": 7,
     "metadata": {},
     "output_type": "execute_result"
    }
   ],
   "source": [
    "# Đọc file\n",
    "df = pd.read_csv(\"../data_2025/sample/sample_100.csv\", dtype={\"SBD\": str})\n",
    "df.head()"
   ]
  },
  {
   "cell_type": "code",
   "execution_count": null,
   "id": "6f305e2c",
   "metadata": {},
   "outputs": [
    {
     "data": {
      "text/html": [
       "<div>\n",
       "<style scoped>\n",
       "    .dataframe tbody tr th:only-of-type {\n",
       "        vertical-align: middle;\n",
       "    }\n",
       "\n",
       "    .dataframe tbody tr th {\n",
       "        vertical-align: top;\n",
       "    }\n",
       "\n",
       "    .dataframe thead th {\n",
       "        text-align: right;\n",
       "    }\n",
       "</style>\n",
       "<table border=\"1\" class=\"dataframe\">\n",
       "  <thead>\n",
       "    <tr style=\"text-align: right;\">\n",
       "      <th></th>\n",
       "      <th>SBD</th>\n",
       "      <th>TOAN</th>\n",
       "      <th>zscore_math</th>\n",
       "    </tr>\n",
       "  </thead>\n",
       "  <tbody>\n",
       "    <tr>\n",
       "      <th>0</th>\n",
       "      <td>02083823</td>\n",
       "      <td>5.00</td>\n",
       "      <td>0.025282</td>\n",
       "    </tr>\n",
       "    <tr>\n",
       "      <th>1</th>\n",
       "      <td>38012819</td>\n",
       "      <td>4.00</td>\n",
       "      <td>-0.555909</td>\n",
       "    </tr>\n",
       "    <tr>\n",
       "      <th>2</th>\n",
       "      <td>34006288</td>\n",
       "      <td>8.00</td>\n",
       "      <td>1.768854</td>\n",
       "    </tr>\n",
       "    <tr>\n",
       "      <th>3</th>\n",
       "      <td>08000914</td>\n",
       "      <td>5.25</td>\n",
       "      <td>0.170580</td>\n",
       "    </tr>\n",
       "    <tr>\n",
       "      <th>4</th>\n",
       "      <td>01015076</td>\n",
       "      <td>8.00</td>\n",
       "      <td>1.768854</td>\n",
       "    </tr>\n",
       "    <tr>\n",
       "      <th>...</th>\n",
       "      <td>...</td>\n",
       "      <td>...</td>\n",
       "      <td>...</td>\n",
       "    </tr>\n",
       "    <tr>\n",
       "      <th>95</th>\n",
       "      <td>02081005</td>\n",
       "      <td>6.75</td>\n",
       "      <td>1.042366</td>\n",
       "    </tr>\n",
       "    <tr>\n",
       "      <th>96</th>\n",
       "      <td>53006884</td>\n",
       "      <td>5.50</td>\n",
       "      <td>0.315877</td>\n",
       "    </tr>\n",
       "    <tr>\n",
       "      <th>97</th>\n",
       "      <td>37017504</td>\n",
       "      <td>6.50</td>\n",
       "      <td>0.897068</td>\n",
       "    </tr>\n",
       "    <tr>\n",
       "      <th>98</th>\n",
       "      <td>43002113</td>\n",
       "      <td>4.35</td>\n",
       "      <td>-0.352492</td>\n",
       "    </tr>\n",
       "    <tr>\n",
       "      <th>99</th>\n",
       "      <td>31007394</td>\n",
       "      <td>8.00</td>\n",
       "      <td>1.768854</td>\n",
       "    </tr>\n",
       "  </tbody>\n",
       "</table>\n",
       "<p>100 rows × 3 columns</p>\n",
       "</div>"
      ],
      "text/plain": [
       "         SBD  TOAN  zscore_math\n",
       "0   02083823  5.00     0.025282\n",
       "1   38012819  4.00    -0.555909\n",
       "2   34006288  8.00     1.768854\n",
       "3   08000914  5.25     0.170580\n",
       "4   01015076  8.00     1.768854\n",
       "..       ...   ...          ...\n",
       "95  02081005  6.75     1.042366\n",
       "96  53006884  5.50     0.315877\n",
       "97  37017504  6.50     0.897068\n",
       "98  43002113  4.35    -0.352492\n",
       "99  31007394  8.00     1.768854\n",
       "\n",
       "[100 rows x 3 columns]"
      ]
     },
     "execution_count": 9,
     "metadata": {},
     "output_type": "execute_result"
    }
   ],
   "source": [
    "from scipy import stats\n",
    "#Tinh zscore\n",
    "df[\"zscore_math\"] = stats.zscore(df[\"TOAN\"])\n",
    "df\n"
   ]
  },
  {
   "cell_type": "code",
   "execution_count": null,
   "id": "30c8122b",
   "metadata": {},
   "outputs": [
    {
     "data": {
      "text/html": [
       "<div>\n",
       "<style scoped>\n",
       "    .dataframe tbody tr th:only-of-type {\n",
       "        vertical-align: middle;\n",
       "    }\n",
       "\n",
       "    .dataframe tbody tr th {\n",
       "        vertical-align: top;\n",
       "    }\n",
       "\n",
       "    .dataframe thead th {\n",
       "        text-align: right;\n",
       "    }\n",
       "</style>\n",
       "<table border=\"1\" class=\"dataframe\">\n",
       "  <thead>\n",
       "    <tr style=\"text-align: right;\">\n",
       "      <th></th>\n",
       "      <th>SBD</th>\n",
       "      <th>TOAN</th>\n",
       "      <th>zscore_math</th>\n",
       "    </tr>\n",
       "  </thead>\n",
       "  <tbody>\n",
       "  </tbody>\n",
       "</table>\n",
       "</div>"
      ],
      "text/plain": [
       "Empty DataFrame\n",
       "Columns: [SBD, TOAN, zscore_math]\n",
       "Index: []"
      ]
     },
     "execution_count": 11,
     "metadata": {},
     "output_type": "execute_result"
    }
   ],
   "source": [
    "# df[(abs(df['zscore_math']) > 3)]"
   ]
  },
  {
   "cell_type": "code",
   "execution_count": 10,
   "id": "b620f1ed",
   "metadata": {},
   "outputs": [
    {
     "name": "stdout",
     "output_type": "stream",
     "text": [
      "Số lượng mẫu: 100\n",
      "Trung bình mẫu: 4.956500000000001\n",
      "Độ lệch chuẩn mẫu: 1.7292734359151003\n",
      "Khoảng tin cậy 95% cho kỳ vọng: [4.613, 5.300]\n"
     ]
    }
   ],
   "source": [
    "scores = df[\"TOAN\"]\n",
    "\n",
    "n = len(scores)\n",
    "mean = np.mean(scores)\n",
    "std = np.std(scores, ddof=1)  # độ lệch chuẩn mẫu\n",
    "\n",
    "# Mức tin cậy 95%\n",
    "alpha = 0.05\n",
    "t_value = stats.t.ppf(1 - alpha/2, df=n-1)\n",
    "\n",
    "# Sai số chuẩn\n",
    "se = std / np.sqrt(n)\n",
    "\n",
    "# Khoảng tin cậy\n",
    "ci_lower = mean - t_value * se\n",
    "ci_upper = mean + t_value * se\n",
    "\n",
    "print(\"Số lượng mẫu:\", n)\n",
    "print(\"Trung bình mẫu:\", mean)\n",
    "print(\"Độ lệch chuẩn mẫu:\", std)\n",
    "print(f\"Khoảng tin cậy 95% cho kỳ vọng: [{ci_lower:.3f}, {ci_upper:.3f}]\")"
   ]
  }
 ],
 "metadata": {
  "kernelspec": {
   "display_name": "py311",
   "language": "python",
   "name": "python3"
  },
  "language_info": {
   "codemirror_mode": {
    "name": "ipython",
    "version": 3
   },
   "file_extension": ".py",
   "mimetype": "text/x-python",
   "name": "python",
   "nbconvert_exporter": "python",
   "pygments_lexer": "ipython3",
   "version": "3.11.13"
  }
 },
 "nbformat": 4,
 "nbformat_minor": 5
}
