{
 "cells": [
  {
   "cell_type": "code",
   "execution_count": 1,
   "id": "811366a0-e4c4-4b3a-aeec-79ec84692a12",
   "metadata": {},
   "outputs": [],
   "source": [
    "import pandas as pd\n",
    "import numpy as np\n",
    "from scipy import stats\n",
    "\n",
    "# Đọc file\n",
    "df = pd.read_csv(\"../data_2025/sample/sample_100.csv\", dtype={\"SBD\": str})\n"
   ]
  },
  {
   "cell_type": "code",
   "execution_count": 2,
   "id": "82166abd-0cd8-445f-87ad-c081bcada0f6",
   "metadata": {},
   "outputs": [
    {
     "data": {
      "text/html": [
       "<div>\n",
       "<style scoped>\n",
       "    .dataframe tbody tr th:only-of-type {\n",
       "        vertical-align: middle;\n",
       "    }\n",
       "\n",
       "    .dataframe tbody tr th {\n",
       "        vertical-align: top;\n",
       "    }\n",
       "\n",
       "    .dataframe thead th {\n",
       "        text-align: right;\n",
       "    }\n",
       "</style>\n",
       "<table border=\"1\" class=\"dataframe\">\n",
       "  <thead>\n",
       "    <tr style=\"text-align: right;\">\n",
       "      <th></th>\n",
       "      <th>SBD</th>\n",
       "      <th>TOAN</th>\n",
       "      <th>zscore_math</th>\n",
       "    </tr>\n",
       "  </thead>\n",
       "  <tbody>\n",
       "    <tr>\n",
       "      <th>0</th>\n",
       "      <td>02083823</td>\n",
       "      <td>5.00</td>\n",
       "      <td>0.025282</td>\n",
       "    </tr>\n",
       "    <tr>\n",
       "      <th>1</th>\n",
       "      <td>38012819</td>\n",
       "      <td>4.00</td>\n",
       "      <td>-0.555909</td>\n",
       "    </tr>\n",
       "    <tr>\n",
       "      <th>2</th>\n",
       "      <td>34006288</td>\n",
       "      <td>8.00</td>\n",
       "      <td>1.768854</td>\n",
       "    </tr>\n",
       "    <tr>\n",
       "      <th>3</th>\n",
       "      <td>08000914</td>\n",
       "      <td>5.25</td>\n",
       "      <td>0.170580</td>\n",
       "    </tr>\n",
       "    <tr>\n",
       "      <th>4</th>\n",
       "      <td>01015076</td>\n",
       "      <td>8.00</td>\n",
       "      <td>1.768854</td>\n",
       "    </tr>\n",
       "    <tr>\n",
       "      <th>...</th>\n",
       "      <td>...</td>\n",
       "      <td>...</td>\n",
       "      <td>...</td>\n",
       "    </tr>\n",
       "    <tr>\n",
       "      <th>95</th>\n",
       "      <td>02081005</td>\n",
       "      <td>6.75</td>\n",
       "      <td>1.042366</td>\n",
       "    </tr>\n",
       "    <tr>\n",
       "      <th>96</th>\n",
       "      <td>53006884</td>\n",
       "      <td>5.50</td>\n",
       "      <td>0.315877</td>\n",
       "    </tr>\n",
       "    <tr>\n",
       "      <th>97</th>\n",
       "      <td>37017504</td>\n",
       "      <td>6.50</td>\n",
       "      <td>0.897068</td>\n",
       "    </tr>\n",
       "    <tr>\n",
       "      <th>98</th>\n",
       "      <td>43002113</td>\n",
       "      <td>4.35</td>\n",
       "      <td>-0.352492</td>\n",
       "    </tr>\n",
       "    <tr>\n",
       "      <th>99</th>\n",
       "      <td>31007394</td>\n",
       "      <td>8.00</td>\n",
       "      <td>1.768854</td>\n",
       "    </tr>\n",
       "  </tbody>\n",
       "</table>\n",
       "<p>100 rows × 3 columns</p>\n",
       "</div>"
      ],
      "text/plain": [
       "         SBD  TOAN  zscore_math\n",
       "0   02083823  5.00     0.025282\n",
       "1   38012819  4.00    -0.555909\n",
       "2   34006288  8.00     1.768854\n",
       "3   08000914  5.25     0.170580\n",
       "4   01015076  8.00     1.768854\n",
       "..       ...   ...          ...\n",
       "95  02081005  6.75     1.042366\n",
       "96  53006884  5.50     0.315877\n",
       "97  37017504  6.50     0.897068\n",
       "98  43002113  4.35    -0.352492\n",
       "99  31007394  8.00     1.768854\n",
       "\n",
       "[100 rows x 3 columns]"
      ]
     },
     "execution_count": 2,
     "metadata": {},
     "output_type": "execute_result"
    }
   ],
   "source": [
    "from scipy import stats\n",
    "#Tinh zscore\n",
    "df[\"zscore_math\"] = stats.zscore(df[\"TOAN\"])\n",
    "df\n",
    "# df[(abs(df['zscore_math']) > 3)]"
   ]
  },
  {
   "cell_type": "code",
   "execution_count": 3,
   "id": "94572505-6b70-46de-a0af-3b661b7de88c",
   "metadata": {},
   "outputs": [
    {
     "name": "stdout",
     "output_type": "stream",
     "text": [
      "Số lượng mẫu: 100\n",
      "Trung bình mẫu: 4.956500000000001\n",
      "Độ lệch chuẩn mẫu: 1.7292734359151003\n",
      "Khoảng tin cậy 95% cho kỳ vọng: [4.618, 5.295]\n"
     ]
    }
   ],
   "source": [
    "scores = df[\"TOAN\"]\n",
    "\n",
    "n = len(scores)\n",
    "mean = np.mean(scores)\n",
    "std = np.std(scores, ddof=1)  # độ lệch chuẩn mẫu\n",
    "\n",
    "# Mức tin cậy 95%\n",
    "alpha = 0.05\n",
    "t_value = stats.norm.ppf(1 - alpha/2)\n",
    "\n",
    "# Sai số chuẩn\n",
    "se = std / np.sqrt(n)\n",
    "\n",
    "# Khoảng tin cậy\n",
    "ci_lower = mean - t_value * se\n",
    "ci_upper = mean + t_value * se\n",
    "\n",
    "print(\"Số lượng mẫu:\", n)\n",
    "print(\"Trung bình mẫu:\", mean)\n",
    "print(\"Độ lệch chuẩn mẫu:\", std)\n",
    "print(f\"Khoảng tin cậy 95% cho kỳ vọng: [{ci_lower:.3f}, {ci_upper:.3f}]\")"
   ]
  },
  {
   "cell_type": "markdown",
   "id": "d0a6db4c",
   "metadata": {},
   "source": [
    "---\n",
    "### Kiểm định giả thuyết\n",
    "#### Theo kết quả phân tích điểm thi tốt nghiệp THPT năm 2024 của Bộ Giáo dục và Đào tạo, điểm trung bình môn toán của thí sinh cả nước là 6.45 điểm. Tuy nhiên, nhóm nghi ngờ rằng con số này có cải thiện đáng kể so với trước đây. Bởi vậy, nhóm tiến hành khảo sát 100 thí sinh và tính được trung bình mẫu là 4.96. Nhóm sẽ tiến hành các thí nghiệm để kết luận về nghi ngờ nói trên, với mức ý nghĩa 5%"
   ]
  },
  {
   "cell_type": "markdown",
   "id": "36abf910",
   "metadata": {},
   "source": [
    "- H0 = 6.45\n",
    "- H1 = mean < 6.45"
   ]
  },
  {
   "cell_type": "code",
   "execution_count": 4,
   "id": "71c1837e-d34b-47a6-8535-e66a54cf2e2f",
   "metadata": {},
   "outputs": [
    {
     "name": "stdout",
     "output_type": "stream",
     "text": [
      "Giá trị z_alpha (phân phối chuẩn tắc): 1.6448536269514722\n",
      "Miền bác bỏ: (-∞, -1.6448536269514722 )\n",
      "Phương sai hiệu chỉnh: 2.9903866161616173\n",
      "Giá trị z_qs: -8.636575159148649\n",
      ">>> Bác bỏ giả thuyết H0\n"
     ]
    }
   ],
   "source": [
    "# Trường hợp chưa biết phương sai, cỡ mẫu n ≥ 30\n",
    "H0 = 6.45\n",
    "H1 = mean < 6.45\n",
    "alpha = 0.05\n",
    "\n",
    "# Miền bác bỏ (sử dụng phân phối chuẩn tắc)\n",
    "z_alpha = stats.norm.ppf(1 - alpha)\n",
    "print(\"Giá trị z_alpha (phân phối chuẩn tắc):\", z_alpha)\n",
    "print(\"Miền bác bỏ: (-∞,\", -z_alpha, \")\")\n",
    "\n",
    "# Phương sai hiệu chỉnh\n",
    "s_squared = 1/(n-1) * sum((scores - mean)**2)\n",
    "s = np.sqrt(s_squared)\n",
    "print(\"Phương sai hiệu chỉnh:\", s_squared)\n",
    "\n",
    "# Giá trị quan sát\n",
    "z_qs = (mean - H0) / s * np.sqrt(n)\n",
    "print(\"Giá trị z_qs:\", z_qs)\n",
    "if z_qs < -z_alpha:\n",
    "    print(\">>> Bác bỏ giả thuyết H0\")\n",
    "else:\n",
    "    print(\">>> Chưa có cơ sở để bác bỏ giả thuyết H0\")"
   ]
  }
 ],
 "metadata": {
  "kernelspec": {
   "display_name": "py311",
   "language": "python",
   "name": "python3"
  },
  "language_info": {
   "codemirror_mode": {
    "name": "ipython",
    "version": 3
   },
   "file_extension": ".py",
   "mimetype": "text/x-python",
   "name": "python",
   "nbconvert_exporter": "python",
   "pygments_lexer": "ipython3",
   "version": "3.11.13"
  }
 },
 "nbformat": 4,
 "nbformat_minor": 5
}
